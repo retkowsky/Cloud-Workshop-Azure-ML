{
 "cells": [
  {
   "cell_type": "markdown",
   "metadata": {},
   "source": [
    "# 3. AutoML : Classification des données\n",
    "\n",
    "\n",
    "<BR>\n",
    "    \n",
    "In this example we use the scikit-learn's [digit dataset](http://scikit-learn.org/stable/datasets/index.html#optical-recognition-of-handwritten-digits-dataset) to showcase how you can use AutoML for a simple classification problem.\n",
    "\n",
    "Make sure you have executed the [00.configuration](00.configuration.ipynb) before running this notebook.\n",
    "\n",
    "In this notebook you will learn how to:\n",
    "- Create an `Experiment` in an existing `Workspace`.\n",
    "- Configure AutoML using `AutoMLConfig`.\n",
    "- Train the model using local compute.\n",
    "- Explore the results.\n",
    "- Test the best fitted model.\n"
   ]
  },
  {
   "cell_type": "markdown",
   "metadata": {},
   "source": [
    "## Introduction\n",
    "\n",
    "Avec Azure ML service :\n",
    "- Select your experiment type: Classification, Regression or Forecasting<br>\n",
    "- Data source, formats, and fetch data<br>\n",
    "- Choose your compute target: local or remote<br>\n",
    "- Automated machine learning experiment settings<br>\n",
    "- Run an automated machine learning experiment<br>\n",
    "- Explore model metrics<br>\n",
    "- Register and deploy model<br>\n"
   ]
  },
  {
   "cell_type": "markdown",
   "metadata": {},
   "source": [
    "Documentation :\n",
    "> https://docs.microsoft.com/en-us/azure/machine-learning/service/how-to-automated-ml"
   ]
  },
  {
   "cell_type": "markdown",
   "metadata": {},
   "source": [
    "## 1. Informations\n",
    "\n",
    "As part of the setup you have already created an Azure ML `Workspace` object. For AutoML you will need to create an `Experiment` object, which is a named object in a `Workspace` used to run experiments."
   ]
  },
  {
   "cell_type": "code",
   "execution_count": 1,
   "metadata": {},
   "outputs": [
    {
     "name": "stdout",
     "output_type": "stream",
     "text": [
      "Version Azure ML service : 1.0.8\n",
      "Version Python :  3.6.6 |Anaconda, Inc.| (default, Jun 28 2018, 17:14:51) \n",
      "[GCC 7.2.0]\n"
     ]
    }
   ],
   "source": [
    "import azureml.core\n",
    "print(\"Version Azure ML service :\", azureml.core.VERSION)\n",
    "\n",
    "import sys\n",
    "print(\"Version Python : \", sys.version)"
   ]
  },
  {
   "cell_type": "code",
   "execution_count": 2,
   "metadata": {},
   "outputs": [],
   "source": [
    "import logging\n",
    "import os\n",
    "import random\n",
    "\n",
    "from matplotlib import pyplot as plt\n",
    "from matplotlib.pyplot import imshow\n",
    "import numpy as np\n",
    "import pandas as pd\n",
    "from sklearn import datasets\n",
    "\n",
    "import azureml.core\n",
    "from azureml.core.experiment import Experiment\n",
    "from azureml.core.workspace import Workspace\n",
    "from azureml.train.automl import AutoMLConfig\n",
    "from azureml.train.automl.run import AutoMLRun"
   ]
  },
  {
   "cell_type": "markdown",
   "metadata": {},
   "source": [
    "## 2. Connexion workspace Azure ML service"
   ]
  },
  {
   "cell_type": "code",
   "execution_count": 3,
   "metadata": {},
   "outputs": [
    {
     "name": "stdout",
     "output_type": "stream",
     "text": [
      "Found the config file in: /home/nbuser/library/aml_config/config.json\n"
     ]
    },
    {
     "data": {
      "text/html": [
       "<div>\n",
       "<style scoped>\n",
       "    .dataframe tbody tr th:only-of-type {\n",
       "        vertical-align: middle;\n",
       "    }\n",
       "\n",
       "    .dataframe tbody tr th {\n",
       "        vertical-align: top;\n",
       "    }\n",
       "\n",
       "    .dataframe thead th {\n",
       "        text-align: right;\n",
       "    }\n",
       "</style>\n",
       "<table border=\"1\" class=\"dataframe\">\n",
       "  <thead>\n",
       "    <tr style=\"text-align: right;\">\n",
       "      <th></th>\n",
       "      <th></th>\n",
       "    </tr>\n",
       "  </thead>\n",
       "  <tbody>\n",
       "    <tr>\n",
       "      <th>Localisation :</th>\n",
       "      <td>westeurope</td>\n",
       "    </tr>\n",
       "    <tr>\n",
       "      <th>Nom du workspace :</th>\n",
       "      <td>AMLSworkspace</td>\n",
       "    </tr>\n",
       "    <tr>\n",
       "      <th>Nom expérience :</th>\n",
       "      <td>automllocalclustering</td>\n",
       "    </tr>\n",
       "    <tr>\n",
       "      <th>Ressource groupe :</th>\n",
       "      <td>resgrpAMLS</td>\n",
       "    </tr>\n",
       "    <tr>\n",
       "      <th>Répertoire projet :</th>\n",
       "      <td>./sampleprojects/automllocalclustering</td>\n",
       "    </tr>\n",
       "    <tr>\n",
       "      <th>Version Azure ML service :</th>\n",
       "      <td>1.0.8</td>\n",
       "    </tr>\n",
       "  </tbody>\n",
       "</table>\n",
       "</div>"
      ],
      "text/plain": [
       "                                                                   \n",
       "Localisation :               westeurope                            \n",
       "Nom du workspace :           AMLSworkspace                         \n",
       "Nom expérience :             automllocalclustering                 \n",
       "Ressource groupe :           resgrpAMLS                            \n",
       "Répertoire projet :          ./sampleprojects/automllocalclustering\n",
       "Version Azure ML service :   1.0.8                                 "
      ]
     },
     "execution_count": 3,
     "metadata": {},
     "output_type": "execute_result"
    }
   ],
   "source": [
    "ws = Workspace.from_config()\n",
    "\n",
    "experiment_name = 'automllocalclustering'\n",
    "project_folder = './sampleprojects/automllocalclustering'\n",
    "\n",
    "experiment = Experiment(ws, experiment_name)\n",
    "\n",
    "output = {}\n",
    "output['Version Azure ML service : '] = azureml.core.VERSION\n",
    "output['Nom du workspace : '] = ws.name\n",
    "output['Ressource groupe : '] = ws.resource_group\n",
    "output['Localisation : '] = ws.location\n",
    "output['Répertoire projet : '] = project_folder\n",
    "output['Nom expérience : '] = experiment.name\n",
    "pd.set_option('display.max_colwidth', -1)\n",
    "pd.DataFrame(data = output, index = ['']).T"
   ]
  },
  {
   "cell_type": "markdown",
   "metadata": {},
   "source": [
    "## Diagnostics\n",
    "\n",
    "Opt-in diagnostics for better experience, quality, and security of future releases."
   ]
  },
  {
   "cell_type": "code",
   "execution_count": 4,
   "metadata": {},
   "outputs": [
    {
     "name": "stdout",
     "output_type": "stream",
     "text": [
      "Turning diagnostics collection on. \n"
     ]
    }
   ],
   "source": [
    "from azureml.telemetry import set_diagnostics_collection\n",
    "set_diagnostics_collection(send_diagnostics = True)"
   ]
  },
  {
   "cell_type": "markdown",
   "metadata": {},
   "source": [
    "## 3. Chargement des données\n",
    "\n",
    "This uses scikit-learn's [load_digits](http://scikit-learn.org/stable/modules/generated/sklearn.datasets.load_digits.html) method."
   ]
  },
  {
   "cell_type": "code",
   "execution_count": 5,
   "metadata": {},
   "outputs": [],
   "source": [
    "from sklearn import datasets\n",
    "\n",
    "digits = datasets.load_digits()\n",
    "\n",
    "# Exclude the first 100 rows from training so that they can be used for test.\n",
    "X_train = digits.data[100:,:]\n",
    "y_train = digits.target[100:]"
   ]
  },
  {
   "cell_type": "markdown",
   "metadata": {},
   "source": [
    "## 4. Configuration AutoML\n",
    "\n",
    "Instantiate an `AutoMLConfig` object to specify the settings and data used to run the experiment.\n",
    "\n",
    "|Property|Description|\n",
    "|-|-|\n",
    "|**task**|classification or regression|\n",
    "|**primary_metric**|This is the metric that you want to optimize. Classification supports the following primary metrics: <br><i>accuracy</i><br><i>AUC_weighted</i><br><i>balanced_accuracy</i><br><i>average_precision_score_weighted</i><br><i>precision_score_weighted</i>|\n",
    "|**max_time_sec**|Time limit in seconds for each iteration.|\n",
    "|**iterations**|Number of iterations. In each iteration AutoML trains a specific pipeline with the data.|\n",
    "|**n_cross_validations**|Number of cross validation splits.|\n",
    "|**X**|(sparse) array-like, shape = [n_samples, n_features]|\n",
    "|**y**|(sparse) array-like, shape = [n_samples, ], [n_samples, n_classes]<br>Multi-class targets. An indicator matrix turns on multilabel classification. This should be an array of integers.|\n",
    "|**path**|Relative path to the project folder. AutoML stores configuration files for the experiment under this folder. You can specify a new empty folder.|"
   ]
  },
  {
   "cell_type": "markdown",
   "metadata": {},
   "source": [
    "**K-Folds Cross Validation**\n",
    "\n",
    "Use `n_cross_validations` setting to specify the number of cross validations. The training data set will be randomly split into `n_cross_validations` folds of equal size. During each cross validation round, one of the folds will be used for validation of the model trained on the remaining folds. This process repeats for `n_cross_validations` rounds until each fold is used once as validation set. The average scores across all `cross_validations rounds` will be reported, and the corresponding model will be retrained on the whole training data set.\n",
    "\n",
    "**Monte Carlo Cross Validation (a.k.a. Repeated Random Sub-Sampling)**\n",
    "\n",
    "Use `validation_size` to specify the percentage of the training dataset that should be used for validation, and use `n_cross_validations` to specify the number of cross validations. During each cross validation round, a subset of size validation_size will be randomly selected for validation of the model trained on the remaining data. Finally, the average scores across all `n_cross_validations` rounds will be reported, and the corresponding model will be retrained on the whole training data set.\n",
    "\n",
    "** Métriques disponibles** :<br>`\n",
    "Accuracy\n",
    "AUC_weighted\n",
    "precision_score_weighted\n",
    "balanced_accuracy\n",
    "average_precision_score_weighted`\n",
    "\n",
    "\n",
    "Documentation :\n",
    "https://docs.microsoft.com/en-us/azure/machine-learning/service/how-to-configure-auto-train"
   ]
  },
  {
   "cell_type": "markdown",
   "metadata": {},
   "source": [
    "### 4.1 Liste des modèles\n",
    "\n",
    "<img src=\"https://raw.githubusercontent.com/retkowsky/workshop_AzureMLService/master/Liste%20des%20mod%C3%A8les%20AUTOML.jpg\" width=\"800\" height=\"800\">\n",
    "\n",
    "https://docs.microsoft.com/en-us/azure/machine-learning/service/how-to-configure-auto-train"
   ]
  },
  {
   "cell_type": "markdown",
   "metadata": {},
   "source": [
    "### 4.2 Configuration AutoML"
   ]
  },
  {
   "cell_type": "code",
   "execution_count": 6,
   "metadata": {},
   "outputs": [],
   "source": [
    "automl_config = AutoMLConfig(task = 'classification',\n",
    "                             debug_log = 'automl_errors.log',\n",
    "                             primary_metric = 'AUC_weighted',\n",
    "                             iteration_timeout_minutes = 10,\n",
    "                             iterations = 10,\n",
    "                             n_cross_validations = 3,\n",
    "                             verbosity = logging.INFO,\n",
    "                             X = X_train, \n",
    "                             y = y_train,\n",
    "                             path = project_folder)"
   ]
  },
  {
   "cell_type": "markdown",
   "metadata": {},
   "source": [
    "## 5. AutoML\n",
    "\n",
    "Call the `submit` method on the experiment object and pass the run configuration. Execution of local runs is synchronous. Depending on the data and the number of iterations this can run for a while.\n",
    "In this example, we specify `show_output = True` to print currently running iterations to the console.\n",
    "\n",
    "`AUC_weighted` is the **metric** used."
   ]
  },
  {
   "cell_type": "code",
   "execution_count": 7,
   "metadata": {},
   "outputs": [
    {
     "name": "stdout",
     "output_type": "stream",
     "text": [
      "Running on local machine\n",
      "Parent Run ID: AutoML_378a53c2-7733-499f-8acd-e70cf6808b5d\n",
      "*******************************************************************************************************\n",
      "ITERATION: The iteration being evaluated.\n",
      "PIPELINE: A summary description of the pipeline being evaluated.\n",
      "TRAINFRAC: Fraction of the training data to train on.\n",
      "DURATION: Time taken for the current iteration.\n",
      "METRIC: The result of computing score on the fitted pipeline.\n",
      "BEST: The best observed score thus far.\n",
      "*******************************************************************************************************\n",
      "\n",
      " ITERATION   PIPELINE                                       TRAINFRAC  DURATION      METRIC      BEST\n",
      "         0   StandardScalerWrapper KNN                      1.0000     0:00:30       0.9988    0.9988\n",
      "         1   StandardScalerWrapper KNN                      1.0000     0:00:27       0.9964    0.9988\n",
      "         2   TruncatedSVDWrapper LightGBM                   1.0000     0:00:25       0.9953    0.9988\n",
      "         3   StandardScalerWrapper LogisticRegression       1.0000     0:00:28       0.9985    0.9988\n",
      "         4   StandardScalerWrapper KNN                      1.0000     0:00:28       0.9985    0.9988\n",
      "         5   StandardScalerWrapper KNN                      1.0000     0:00:27       0.9978    0.9988\n",
      "         6   SparseNormalizer GradientBoosting              1.0000     0:01:51       0.9994    0.9994\n",
      "         7   MaxAbsScaler LightGBM                          1.0000     0:00:50       0.9994    0.9994\n",
      "         8   MaxAbsScaler LightGBM                          1.0000     0:00:22       0.9966    0.9994\n",
      "         9   Ensemble                                       1.0000     0:01:33       0.9997    0.9997\n"
     ]
    }
   ],
   "source": [
    "local_run = experiment.submit(automl_config, show_output = True)"
   ]
  },
  {
   "cell_type": "code",
   "execution_count": 8,
   "metadata": {},
   "outputs": [
    {
     "data": {
      "text/html": [
       "<table style=\"width:100%\"><tr><th>Experiment</th><th>Id</th><th>Type</th><th>Status</th><th>Details Page</th><th>Docs Page</th></tr><tr><td>automllocalclustering</td><td>AutoML_378a53c2-7733-499f-8acd-e70cf6808b5d</td><td>automl</td><td>Completed</td><td><a href=\"https://mlworkspace.azure.ai/portal/subscriptions/70b8f39e-8863-49f7-b6ba-34a80799550c/resourceGroups/resgrpAMLS/providers/Microsoft.MachineLearningServices/workspaces/AMLSworkspace/experiments/automllocalclustering/runs/AutoML_378a53c2-7733-499f-8acd-e70cf6808b5d\" target=\"_blank\" rel=\"noopener\">Link to Azure Portal</a></td><td><a href=\"https://docs.microsoft.com/en-us/python/api/overview/azure/ml/intro?view=azure-ml-py\" target=\"_blank\" rel=\"noopener\">Link to Documentation</a></td></tr></table>"
      ],
      "text/plain": [
       "Run(Experiment: automllocalclustering,\n",
       "Id: AutoML_378a53c2-7733-499f-8acd-e70cf6808b5d,\n",
       "Type: automl,\n",
       "Status: Completed)"
      ]
     },
     "execution_count": 8,
     "metadata": {},
     "output_type": "execute_result"
    }
   ],
   "source": [
    "local_run"
   ]
  },
  {
   "cell_type": "markdown",
   "metadata": {},
   "source": [
    "Optionally, you can continue an interrupted local run by calling `continue_experiment` without the `iterations` parameter, or run more iterations for a completed run by specifying the `iterations` parameter:"
   ]
  },
  {
   "cell_type": "markdown",
   "metadata": {},
   "source": [
    "#local_run = local_run.continue_experiment(X = X_train, \n",
    "                                          y = y_train, \n",
    "                                          show_output = True,\n",
    "                                          iterations = 5)"
   ]
  },
  {
   "cell_type": "code",
   "execution_count": 9,
   "metadata": {},
   "outputs": [],
   "source": [
    "#local_run"
   ]
  },
  {
   "cell_type": "markdown",
   "metadata": {},
   "source": [
    "## 6. Exploration des résultats AutoML"
   ]
  },
  {
   "cell_type": "markdown",
   "metadata": {},
   "source": [
    "### 6.1 Notebook Widget\n",
    "\n",
    "The widget will first report a \"loading\" status while running the first iteration. After completing the first iteration, an auto-updating graph and table will be shown. The widget will refresh once per minute, so you should see the graph update as child runs complete.\n",
    "\n",
    "**Note:** The widget displays a link at the bottom. Use this link to open a web interface to explore the individual run details."
   ]
  },
  {
   "cell_type": "code",
   "execution_count": 10,
   "metadata": {},
   "outputs": [
    {
     "data": {
      "application/vnd.jupyter.widget-view+json": {
       "model_id": "8424abf321a54142a7d1dcf54f9fa92e",
       "version_major": 2,
       "version_minor": 0
      },
      "text/plain": [
       "_AutoMLWidget(widget_settings={'childWidgetDisplay': 'popup', 'send_telemetry': True, 'log_level': 'INFO', 'sd…"
      ]
     },
     "metadata": {},
     "output_type": "display_data"
    }
   ],
   "source": [
    "from azureml.widgets import RunDetails\n",
    "RunDetails(local_run).show() "
   ]
  },
  {
   "cell_type": "markdown",
   "metadata": {},
   "source": [
    "\n",
    "### 6.2 Métriques par itération\n"
   ]
  },
  {
   "cell_type": "code",
   "execution_count": 11,
   "metadata": {},
   "outputs": [
    {
     "data": {
      "text/html": [
       "<div>\n",
       "<style scoped>\n",
       "    .dataframe tbody tr th:only-of-type {\n",
       "        vertical-align: middle;\n",
       "    }\n",
       "\n",
       "    .dataframe tbody tr th {\n",
       "        vertical-align: top;\n",
       "    }\n",
       "\n",
       "    .dataframe thead th {\n",
       "        text-align: right;\n",
       "    }\n",
       "</style>\n",
       "<table border=\"1\" class=\"dataframe\">\n",
       "  <thead>\n",
       "    <tr style=\"text-align: right;\">\n",
       "      <th></th>\n",
       "      <th>0</th>\n",
       "      <th>1</th>\n",
       "      <th>2</th>\n",
       "      <th>3</th>\n",
       "      <th>4</th>\n",
       "      <th>5</th>\n",
       "      <th>6</th>\n",
       "      <th>7</th>\n",
       "      <th>8</th>\n",
       "      <th>9</th>\n",
       "    </tr>\n",
       "  </thead>\n",
       "  <tbody>\n",
       "    <tr>\n",
       "      <th>AUC_macro</th>\n",
       "      <td>0.998831</td>\n",
       "      <td>0.996460</td>\n",
       "      <td>0.995278</td>\n",
       "      <td>0.998493</td>\n",
       "      <td>0.998494</td>\n",
       "      <td>0.997816</td>\n",
       "      <td>0.999427</td>\n",
       "      <td>0.999441</td>\n",
       "      <td>0.996619</td>\n",
       "      <td>0.999743</td>\n",
       "    </tr>\n",
       "    <tr>\n",
       "      <th>AUC_micro</th>\n",
       "      <td>0.999016</td>\n",
       "      <td>0.996402</td>\n",
       "      <td>0.995471</td>\n",
       "      <td>0.998777</td>\n",
       "      <td>0.998573</td>\n",
       "      <td>0.997816</td>\n",
       "      <td>0.999440</td>\n",
       "      <td>0.999467</td>\n",
       "      <td>0.996997</td>\n",
       "      <td>0.999813</td>\n",
       "    </tr>\n",
       "    <tr>\n",
       "      <th>AUC_weighted</th>\n",
       "      <td>0.998831</td>\n",
       "      <td>0.996386</td>\n",
       "      <td>0.995303</td>\n",
       "      <td>0.998467</td>\n",
       "      <td>0.998492</td>\n",
       "      <td>0.997782</td>\n",
       "      <td>0.999420</td>\n",
       "      <td>0.999439</td>\n",
       "      <td>0.996640</td>\n",
       "      <td>0.999737</td>\n",
       "    </tr>\n",
       "    <tr>\n",
       "      <th>accuracy</th>\n",
       "      <td>0.965236</td>\n",
       "      <td>0.987034</td>\n",
       "      <td>0.915147</td>\n",
       "      <td>0.964059</td>\n",
       "      <td>0.951091</td>\n",
       "      <td>0.974661</td>\n",
       "      <td>0.971720</td>\n",
       "      <td>0.975256</td>\n",
       "      <td>0.938722</td>\n",
       "      <td>0.988216</td>\n",
       "    </tr>\n",
       "    <tr>\n",
       "      <th>average_precision_score_macro</th>\n",
       "      <td>0.993350</td>\n",
       "      <td>0.988395</td>\n",
       "      <td>0.971212</td>\n",
       "      <td>0.990909</td>\n",
       "      <td>0.988972</td>\n",
       "      <td>0.992957</td>\n",
       "      <td>0.995843</td>\n",
       "      <td>0.996058</td>\n",
       "      <td>0.980108</td>\n",
       "      <td>0.998339</td>\n",
       "    </tr>\n",
       "    <tr>\n",
       "      <th>average_precision_score_micro</th>\n",
       "      <td>0.994107</td>\n",
       "      <td>0.988071</td>\n",
       "      <td>0.973481</td>\n",
       "      <td>0.992053</td>\n",
       "      <td>0.989024</td>\n",
       "      <td>0.992539</td>\n",
       "      <td>0.995937</td>\n",
       "      <td>0.996248</td>\n",
       "      <td>0.981398</td>\n",
       "      <td>0.998636</td>\n",
       "    </tr>\n",
       "    <tr>\n",
       "      <th>average_precision_score_weighted</th>\n",
       "      <td>0.993454</td>\n",
       "      <td>0.988216</td>\n",
       "      <td>0.971513</td>\n",
       "      <td>0.990806</td>\n",
       "      <td>0.989008</td>\n",
       "      <td>0.992778</td>\n",
       "      <td>0.995853</td>\n",
       "      <td>0.996089</td>\n",
       "      <td>0.980327</td>\n",
       "      <td>0.998307</td>\n",
       "    </tr>\n",
       "    <tr>\n",
       "      <th>balanced_accuracy</th>\n",
       "      <td>0.965062</td>\n",
       "      <td>0.987092</td>\n",
       "      <td>0.915614</td>\n",
       "      <td>0.965364</td>\n",
       "      <td>0.951313</td>\n",
       "      <td>0.974766</td>\n",
       "      <td>0.972403</td>\n",
       "      <td>0.975696</td>\n",
       "      <td>0.939286</td>\n",
       "      <td>0.988719</td>\n",
       "    </tr>\n",
       "    <tr>\n",
       "      <th>f1_score_macro</th>\n",
       "      <td>0.965093</td>\n",
       "      <td>0.987168</td>\n",
       "      <td>0.914511</td>\n",
       "      <td>0.964775</td>\n",
       "      <td>0.950920</td>\n",
       "      <td>0.974650</td>\n",
       "      <td>0.972247</td>\n",
       "      <td>0.975713</td>\n",
       "      <td>0.938919</td>\n",
       "      <td>0.988536</td>\n",
       "    </tr>\n",
       "    <tr>\n",
       "      <th>f1_score_micro</th>\n",
       "      <td>0.965236</td>\n",
       "      <td>0.987034</td>\n",
       "      <td>0.915147</td>\n",
       "      <td>0.964059</td>\n",
       "      <td>0.951091</td>\n",
       "      <td>0.974661</td>\n",
       "      <td>0.971720</td>\n",
       "      <td>0.975256</td>\n",
       "      <td>0.938722</td>\n",
       "      <td>0.988216</td>\n",
       "    </tr>\n",
       "    <tr>\n",
       "      <th>f1_score_weighted</th>\n",
       "      <td>0.965333</td>\n",
       "      <td>0.986962</td>\n",
       "      <td>0.915228</td>\n",
       "      <td>0.964093</td>\n",
       "      <td>0.951030</td>\n",
       "      <td>0.974595</td>\n",
       "      <td>0.971725</td>\n",
       "      <td>0.975304</td>\n",
       "      <td>0.938831</td>\n",
       "      <td>0.988187</td>\n",
       "    </tr>\n",
       "    <tr>\n",
       "      <th>log_loss</th>\n",
       "      <td>0.149926</td>\n",
       "      <td>0.237156</td>\n",
       "      <td>0.399727</td>\n",
       "      <td>0.137143</td>\n",
       "      <td>0.224888</td>\n",
       "      <td>0.205935</td>\n",
       "      <td>0.146534</td>\n",
       "      <td>0.116159</td>\n",
       "      <td>0.846541</td>\n",
       "      <td>0.098615</td>\n",
       "    </tr>\n",
       "    <tr>\n",
       "      <th>norm_macro_recall</th>\n",
       "      <td>0.961180</td>\n",
       "      <td>0.985658</td>\n",
       "      <td>0.906238</td>\n",
       "      <td>0.961515</td>\n",
       "      <td>0.945903</td>\n",
       "      <td>0.971962</td>\n",
       "      <td>0.969337</td>\n",
       "      <td>0.972995</td>\n",
       "      <td>0.932540</td>\n",
       "      <td>0.987465</td>\n",
       "    </tr>\n",
       "    <tr>\n",
       "      <th>precision_score_macro</th>\n",
       "      <td>0.966393</td>\n",
       "      <td>0.987799</td>\n",
       "      <td>0.915402</td>\n",
       "      <td>0.964993</td>\n",
       "      <td>0.953327</td>\n",
       "      <td>0.975336</td>\n",
       "      <td>0.972722</td>\n",
       "      <td>0.976252</td>\n",
       "      <td>0.940587</td>\n",
       "      <td>0.988609</td>\n",
       "    </tr>\n",
       "    <tr>\n",
       "      <th>precision_score_micro</th>\n",
       "      <td>0.965236</td>\n",
       "      <td>0.987034</td>\n",
       "      <td>0.915147</td>\n",
       "      <td>0.964059</td>\n",
       "      <td>0.951091</td>\n",
       "      <td>0.974661</td>\n",
       "      <td>0.971720</td>\n",
       "      <td>0.975256</td>\n",
       "      <td>0.938722</td>\n",
       "      <td>0.988216</td>\n",
       "    </tr>\n",
       "    <tr>\n",
       "      <th>precision_score_weighted</th>\n",
       "      <td>0.966693</td>\n",
       "      <td>0.987451</td>\n",
       "      <td>0.917351</td>\n",
       "      <td>0.964951</td>\n",
       "      <td>0.953782</td>\n",
       "      <td>0.975340</td>\n",
       "      <td>0.972363</td>\n",
       "      <td>0.975876</td>\n",
       "      <td>0.940955</td>\n",
       "      <td>0.988424</td>\n",
       "    </tr>\n",
       "    <tr>\n",
       "      <th>recall_score_macro</th>\n",
       "      <td>0.965062</td>\n",
       "      <td>0.987092</td>\n",
       "      <td>0.915614</td>\n",
       "      <td>0.965364</td>\n",
       "      <td>0.951313</td>\n",
       "      <td>0.974766</td>\n",
       "      <td>0.972403</td>\n",
       "      <td>0.975696</td>\n",
       "      <td>0.939286</td>\n",
       "      <td>0.988719</td>\n",
       "    </tr>\n",
       "    <tr>\n",
       "      <th>recall_score_micro</th>\n",
       "      <td>0.965236</td>\n",
       "      <td>0.987034</td>\n",
       "      <td>0.915147</td>\n",
       "      <td>0.964059</td>\n",
       "      <td>0.951091</td>\n",
       "      <td>0.974661</td>\n",
       "      <td>0.971720</td>\n",
       "      <td>0.975256</td>\n",
       "      <td>0.938722</td>\n",
       "      <td>0.988216</td>\n",
       "    </tr>\n",
       "    <tr>\n",
       "      <th>recall_score_weighted</th>\n",
       "      <td>0.965236</td>\n",
       "      <td>0.987034</td>\n",
       "      <td>0.915147</td>\n",
       "      <td>0.964059</td>\n",
       "      <td>0.951091</td>\n",
       "      <td>0.974661</td>\n",
       "      <td>0.971720</td>\n",
       "      <td>0.975256</td>\n",
       "      <td>0.938722</td>\n",
       "      <td>0.988216</td>\n",
       "    </tr>\n",
       "    <tr>\n",
       "      <th>weighted_accuracy</th>\n",
       "      <td>0.965412</td>\n",
       "      <td>0.987058</td>\n",
       "      <td>0.914661</td>\n",
       "      <td>0.962746</td>\n",
       "      <td>0.950992</td>\n",
       "      <td>0.974577</td>\n",
       "      <td>0.971018</td>\n",
       "      <td>0.974763</td>\n",
       "      <td>0.938143</td>\n",
       "      <td>0.987716</td>\n",
       "    </tr>\n",
       "  </tbody>\n",
       "</table>\n",
       "</div>"
      ],
      "text/plain": [
       "                                         0         1         2         3  \\\n",
       "AUC_macro                         0.998831  0.996460  0.995278  0.998493   \n",
       "AUC_micro                         0.999016  0.996402  0.995471  0.998777   \n",
       "AUC_weighted                      0.998831  0.996386  0.995303  0.998467   \n",
       "accuracy                          0.965236  0.987034  0.915147  0.964059   \n",
       "average_precision_score_macro     0.993350  0.988395  0.971212  0.990909   \n",
       "average_precision_score_micro     0.994107  0.988071  0.973481  0.992053   \n",
       "average_precision_score_weighted  0.993454  0.988216  0.971513  0.990806   \n",
       "balanced_accuracy                 0.965062  0.987092  0.915614  0.965364   \n",
       "f1_score_macro                    0.965093  0.987168  0.914511  0.964775   \n",
       "f1_score_micro                    0.965236  0.987034  0.915147  0.964059   \n",
       "f1_score_weighted                 0.965333  0.986962  0.915228  0.964093   \n",
       "log_loss                          0.149926  0.237156  0.399727  0.137143   \n",
       "norm_macro_recall                 0.961180  0.985658  0.906238  0.961515   \n",
       "precision_score_macro             0.966393  0.987799  0.915402  0.964993   \n",
       "precision_score_micro             0.965236  0.987034  0.915147  0.964059   \n",
       "precision_score_weighted          0.966693  0.987451  0.917351  0.964951   \n",
       "recall_score_macro                0.965062  0.987092  0.915614  0.965364   \n",
       "recall_score_micro                0.965236  0.987034  0.915147  0.964059   \n",
       "recall_score_weighted             0.965236  0.987034  0.915147  0.964059   \n",
       "weighted_accuracy                 0.965412  0.987058  0.914661  0.962746   \n",
       "\n",
       "                                         4         5         6         7  \\\n",
       "AUC_macro                         0.998494  0.997816  0.999427  0.999441   \n",
       "AUC_micro                         0.998573  0.997816  0.999440  0.999467   \n",
       "AUC_weighted                      0.998492  0.997782  0.999420  0.999439   \n",
       "accuracy                          0.951091  0.974661  0.971720  0.975256   \n",
       "average_precision_score_macro     0.988972  0.992957  0.995843  0.996058   \n",
       "average_precision_score_micro     0.989024  0.992539  0.995937  0.996248   \n",
       "average_precision_score_weighted  0.989008  0.992778  0.995853  0.996089   \n",
       "balanced_accuracy                 0.951313  0.974766  0.972403  0.975696   \n",
       "f1_score_macro                    0.950920  0.974650  0.972247  0.975713   \n",
       "f1_score_micro                    0.951091  0.974661  0.971720  0.975256   \n",
       "f1_score_weighted                 0.951030  0.974595  0.971725  0.975304   \n",
       "log_loss                          0.224888  0.205935  0.146534  0.116159   \n",
       "norm_macro_recall                 0.945903  0.971962  0.969337  0.972995   \n",
       "precision_score_macro             0.953327  0.975336  0.972722  0.976252   \n",
       "precision_score_micro             0.951091  0.974661  0.971720  0.975256   \n",
       "precision_score_weighted          0.953782  0.975340  0.972363  0.975876   \n",
       "recall_score_macro                0.951313  0.974766  0.972403  0.975696   \n",
       "recall_score_micro                0.951091  0.974661  0.971720  0.975256   \n",
       "recall_score_weighted             0.951091  0.974661  0.971720  0.975256   \n",
       "weighted_accuracy                 0.950992  0.974577  0.971018  0.974763   \n",
       "\n",
       "                                         8         9  \n",
       "AUC_macro                         0.996619  0.999743  \n",
       "AUC_micro                         0.996997  0.999813  \n",
       "AUC_weighted                      0.996640  0.999737  \n",
       "accuracy                          0.938722  0.988216  \n",
       "average_precision_score_macro     0.980108  0.998339  \n",
       "average_precision_score_micro     0.981398  0.998636  \n",
       "average_precision_score_weighted  0.980327  0.998307  \n",
       "balanced_accuracy                 0.939286  0.988719  \n",
       "f1_score_macro                    0.938919  0.988536  \n",
       "f1_score_micro                    0.938722  0.988216  \n",
       "f1_score_weighted                 0.938831  0.988187  \n",
       "log_loss                          0.846541  0.098615  \n",
       "norm_macro_recall                 0.932540  0.987465  \n",
       "precision_score_macro             0.940587  0.988609  \n",
       "precision_score_micro             0.938722  0.988216  \n",
       "precision_score_weighted          0.940955  0.988424  \n",
       "recall_score_macro                0.939286  0.988719  \n",
       "recall_score_micro                0.938722  0.988216  \n",
       "recall_score_weighted             0.938722  0.988216  \n",
       "weighted_accuracy                 0.938143  0.987716  "
      ]
     },
     "execution_count": 11,
     "metadata": {},
     "output_type": "execute_result"
    }
   ],
   "source": [
    "children = list(local_run.get_children())\n",
    "metricslist = {}\n",
    "for run in children:\n",
    "    properties = run.get_properties()\n",
    "    metrics = {k: v for k, v in run.get_metrics().items() if isinstance(v, float)}\n",
    "    metricslist[int(properties['iteration'])] = metrics\n",
    "\n",
    "rundata = pd.DataFrame(metricslist).sort_index(1)\n",
    "rundata"
   ]
  },
  {
   "cell_type": "markdown",
   "metadata": {},
   "source": [
    "## 7. Récupération du meilleur modèle\n",
    "\n",
    "Below we select the best pipeline from our iterations. The `get_output` method returns the best run and the fitted model. The Model includes the pipeline and any pre-processing.  Overloads on `get_output` allow you to retrieve the best run and fitted model for *any* logged metric or for a particular *iteration*."
   ]
  },
  {
   "cell_type": "code",
   "execution_count": 12,
   "metadata": {},
   "outputs": [
    {
     "name": "stdout",
     "output_type": "stream",
     "text": [
      "Run(Experiment: automllocalclustering,\n",
      "Id: AutoML_378a53c2-7733-499f-8acd-e70cf6808b5d_9,\n",
      "Type: None,\n",
      "Status: Completed)\n",
      "Pipeline(memory=None,\n",
      "     steps=[('prefittedsoftvotingclassifier', PreFittedSoftVotingClassifier(classification_labels=None,\n",
      "               estimators=[('LogisticRegression', Pipeline(memory=None,\n",
      "     steps=[('StandardScalerWrapper', <automl.client.core.common.model_wrappers.StandardScalerWrapper object at 0x7fa6c47e2780>),...))],\n",
      "               flatten_transform=None,\n",
      "               weights=[0.1, 0.3, 0.1, 0.1, 0.1, 0.3]))])\n"
     ]
    }
   ],
   "source": [
    "best_run, fitted_model = local_run.get_output()\n",
    "print(best_run)\n",
    "print(fitted_model)"
   ]
  },
  {
   "cell_type": "markdown",
   "metadata": {},
   "source": [
    "### 7.1 Changement de la métrique AutoML\n"
   ]
  },
  {
   "cell_type": "code",
   "execution_count": 13,
   "metadata": {},
   "outputs": [
    {
     "name": "stdout",
     "output_type": "stream",
     "text": [
      "Run(Experiment: automllocalclustering,\n",
      "Id: AutoML_378a53c2-7733-499f-8acd-e70cf6808b5d_9,\n",
      "Type: None,\n",
      "Status: Completed)\n",
      "Pipeline(memory=None,\n",
      "     steps=[('prefittedsoftvotingclassifier', PreFittedSoftVotingClassifier(classification_labels=None,\n",
      "               estimators=[('LogisticRegression', Pipeline(memory=None,\n",
      "     steps=[('StandardScalerWrapper', <automl.client.core.common.model_wrappers.StandardScalerWrapper object at 0x7fa6c595f2b0>),...))],\n",
      "               flatten_transform=None,\n",
      "               weights=[0.1, 0.3, 0.1, 0.1, 0.1, 0.3]))])\n"
     ]
    }
   ],
   "source": [
    "lookup_metric = \"f1_score_weighted\"\n",
    "best_run, fitted_model = local_run.get_output(metric = lookup_metric)\n",
    "print(best_run)\n",
    "print(fitted_model)"
   ]
  },
  {
   "cell_type": "markdown",
   "metadata": {},
   "source": [
    "Model from a Specific Iteration\n",
    "Show the run and the model from the third iteration:"
   ]
  },
  {
   "cell_type": "code",
   "execution_count": 14,
   "metadata": {},
   "outputs": [
    {
     "name": "stdout",
     "output_type": "stream",
     "text": [
      "Run(Experiment: automllocalclustering,\n",
      "Id: AutoML_378a53c2-7733-499f-8acd-e70cf6808b5d_3,\n",
      "Type: None,\n",
      "Status: Completed)\n",
      "Pipeline(memory=None,\n",
      "     steps=[('StandardScalerWrapper', <automl.client.core.common.model_wrappers.StandardScalerWrapper object at 0x7fa6c591a4a8>), ('LogisticRegression', LogisticRegression(C=6866.488450042998, class_weight=None, dual=False,\n",
      "          fit_intercept=True, intercept_scaling=1, max_iter=100,\n",
      "          multi_class='multinomial', n_jobs=1, penalty='l2',\n",
      "          random_state=None, solver='saga', tol=0.0001, verbose=0,\n",
      "          warm_start=False))])\n"
     ]
    }
   ],
   "source": [
    "iteration = 3\n",
    "third_run, third_model = local_run.get_output(iteration = iteration)\n",
    "print(third_run)\n",
    "print(third_model)"
   ]
  },
  {
   "cell_type": "markdown",
   "metadata": {},
   "source": [
    "## 8. Test du modèle\n",
    "\n",
    "### 8.1 Chargement des données"
   ]
  },
  {
   "cell_type": "code",
   "execution_count": 15,
   "metadata": {},
   "outputs": [],
   "source": [
    "digits = datasets.load_digits()\n",
    "X_test = digits.data[:10, :]\n",
    "y_test = digits.target[:10]\n",
    "images = digits.images[:10]"
   ]
  },
  {
   "cell_type": "markdown",
   "metadata": {},
   "source": [
    "### 8.2 Test\n",
    "We will try to predict 2 digits and see how our model works."
   ]
  },
  {
   "cell_type": "code",
   "execution_count": 16,
   "metadata": {},
   "outputs": [
    {
     "name": "stdout",
     "output_type": "stream",
     "text": [
      "4\n"
     ]
    },
    {
     "data": {
      "image/png": "[encoded data removed]",
      "text/plain": [
       "<Figure size 216x216 with 1 Axes>"
      ]
     },
     "metadata": {
      "needs_background": "light"
     },
     "output_type": "display_data"
    },
    {
     "name": "stdout",
     "output_type": "stream",
     "text": [
      "0\n"
     ]
    },
    {
     "data": {
      "image/png": "[encoded data removed]",
      "text/plain": [
       "<Figure size 216x216 with 1 Axes>"
      ]
     },
     "metadata": {
      "needs_background": "light"
     },
     "output_type": "display_data"
    }
   ],
   "source": [
    "# Randomly select digits and test.\n",
    "for index in np.random.choice(len(y_test), 2, replace = False):\n",
    "    print(index)\n",
    "    predicted = fitted_model.predict(X_test[index:index + 1])[0]\n",
    "    label = y_test[index]\n",
    "    title = \"Label value = %d  Predicted value = %d \" % (label, predicted)\n",
    "    fig = plt.figure(1, figsize = (3,3))\n",
    "    ax1 = fig.add_axes((0,0,.8,.8))\n",
    "    ax1.set_title(title)\n",
    "    plt.imshow(images[index], cmap = plt.cm.gray_r, interpolation = 'nearest')\n",
    "    plt.show()"
   ]
  },
  {
   "cell_type": "markdown",
   "metadata": {},
   "source": [
    "** Documentation disponible :**\n",
    "    https://docs.microsoft.com/en-us/azure/machine-learning/service/how-to-configure-auto-train"
   ]
  },
  {
   "cell_type": "markdown",
   "metadata": {},
   "source": [
    "> Fin"
   ]
  },
  {
   "cell_type": "code",
   "execution_count": null,
   "metadata": {},
   "outputs": [],
   "source": []
  }
 ],
 "metadata": {
  "authors": [
   {
    "name": "savitam"
   }
  ],
  "kernelspec": {
   "display_name": "Python 3.6",
   "language": "python",
   "name": "python36"
  },
  "language_info": {
   "codemirror_mode": {
    "name": "ipython",
    "version": 3
   },
   "file_extension": ".py",
   "mimetype": "text/x-python",
   "name": "python",
   "nbconvert_exporter": "python",
   "pygments_lexer": "ipython3",
   "version": "3.6.6"
  }
 },
 "nbformat": 4,
 "nbformat_minor": 2
}
