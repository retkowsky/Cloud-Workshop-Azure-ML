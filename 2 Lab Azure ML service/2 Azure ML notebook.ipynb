{
  "cells": [
    {
      "metadata": {},
      "cell_type": "markdown",
      "source": "# Modélisation avec Azure ML service\n\n> https://docs.microsoft.com/en-us/azure/machine-learning/"
    },
    {
      "metadata": {
        "trusted": true
      },
      "cell_type": "code",
      "source": "import azureml.core\nfrom azureml.core import Experiment, Workspace\n\n# Check core SDK version number\nprint(\"Version Azure ML service : \", azureml.core.VERSION)",
      "execution_count": 1,
      "outputs": [
        {
          "output_type": "stream",
          "text": "Version Azure ML service :  1.0.21\n",
          "name": "stdout"
        }
      ]
    },
    {
      "metadata": {
        "trusted": true
      },
      "cell_type": "code",
      "source": "# workspace\nws = Workspace.from_config()\nprint('Workspace name: ' + ws.name, \n      'Azure region: ' + ws.location, \n      'Resource group: ' + ws.resource_group, sep='\\n')",
      "execution_count": 2,
      "outputs": [
        {
          "output_type": "stream",
          "text": "Found the config file in: /home/nbuser/library/aml_config/config.json\nWorkspace name: azuremlservice\nAzure region: westeurope\nResource group: azuremlserviceresourcegroup\n",
          "name": "stdout"
        }
      ]
    },
    {
      "metadata": {},
      "cell_type": "markdown",
      "source": "## Chargement des données"
    },
    {
      "metadata": {
        "trusted": true
      },
      "cell_type": "code",
      "source": "%%time\nfrom sklearn.datasets import load_diabetes\nfrom sklearn.linear_model import Ridge\nfrom sklearn.metrics import mean_squared_error\nfrom sklearn.model_selection import train_test_split\nfrom sklearn.externals import joblib\n\nX, y = load_diabetes(return_X_y = True)\ncolumns = ['age', 'gender', 'bmi', 'bp', 's1', 's2', 's3', 's4', 's5', 's6']\nX_train, X_test, y_train, y_test = train_test_split(X, y, test_size=0.2, random_state=0)\ndata = {\n    \"train\":{\"X\": X_train, \"y\": y_train},        \n    \"test\":{\"X\": X_test, \"y\": y_test}\n}\n\nprint (\"Data contains\", len(data['train']['X']), \"training samples and\",len(data['test']['X']), \"test samples\")",
      "execution_count": 3,
      "outputs": [
        {
          "output_type": "stream",
          "text": "Data contains 353 training samples and 89 test samples\nCPU times: user 806 ms, sys: 1.73 s, total: 2.53 s\nWall time: 2.58 s\n",
          "name": "stdout"
        }
      ]
    },
    {
      "metadata": {},
      "cell_type": "markdown",
      "source": "## Modélisation"
    },
    {
      "metadata": {
        "trusted": true
      },
      "cell_type": "code",
      "source": "%%time\n# Get an experiment object from Azure Machine Learning\nexperiment = Experiment(workspace=ws, name=\"workshop-ExempleDiabete\")\n\n# Create a run object in the experiment\nrun = experiment.start_logging()\n# Log the algorithm parameter alpha to the run\nrun.log('alpha', 0.03)\n\n# Create, fit, and test the scikit-learn Ridge regression model\nregression_model = Ridge(alpha=0.03)\nregression_model.fit(data['train']['X'], data['train']['y'])\npreds = regression_model.predict(data['test']['X'])\n\n# Output the Mean Squared Error to the notebook and to the run\nprint('Mean Squared Error is', mean_squared_error(data['test']['y'], preds))\nrun.log('mse', mean_squared_error(data['test']['y'], preds))\n\n# Save the model to the outputs directory for capture\njoblib.dump(value=regression_model, filename='outputs/monmodele.pkl')\n\n# Take a snapshot of the directory containing this notebook\n#run.take_snapshot('./')\n\n# Complete the run\nrun.complete()",
      "execution_count": 4,
      "outputs": [
        {
          "output_type": "stream",
          "text": "Mean Squared Error is 3424.900315896017\nCPU times: user 1.07 s, sys: 1.29 s, total: 2.36 s\nWall time: 28.4 s\n",
          "name": "stdout"
        }
      ]
    },
    {
      "metadata": {},
      "cell_type": "markdown",
      "source": "## Visualisation de l'expérimentation sur le portail Azure"
    },
    {
      "metadata": {
        "trusted": true
      },
      "cell_type": "code",
      "source": "run",
      "execution_count": 5,
      "outputs": [
        {
          "output_type": "execute_result",
          "execution_count": 5,
          "data": {
            "text/html": "<table style=\"width:100%\"><tr><th>Experiment</th><th>Id</th><th>Type</th><th>Status</th><th>Details Page</th><th>Docs Page</th></tr><tr><td>workshop-ExempleDiabete</td><td>38c29c44-eae2-4b82-81a4-5cee04069a2d</td><td></td><td>Completed</td><td><a href=\"https://mlworkspace.azure.ai/portal/subscriptions/70b8f39e-8863-49f7-b6ba-34a80799550c/resourceGroups/azuremlserviceresourcegroup/providers/Microsoft.MachineLearningServices/workspaces/azuremlservice/experiments/workshop-ExempleDiabete/runs/38c29c44-eae2-4b82-81a4-5cee04069a2d\" target=\"_blank\" rel=\"noopener\">Link to Azure Portal</a></td><td><a href=\"https://docs.microsoft.com/en-us/python/api/azureml-core/azureml.core.run.Run?view=azure-ml-py\" target=\"_blank\" rel=\"noopener\">Link to Documentation</a></td></tr></table>",
            "text/plain": "Run(Experiment: workshop-ExempleDiabete,\nId: 38c29c44-eae2-4b82-81a4-5cee04069a2d,\nType: None,\nStatus: Completed)"
          },
          "metadata": {}
        }
      ]
    },
    {
      "metadata": {},
      "cell_type": "markdown",
      "source": "## Recherche du paramétre optimal"
    },
    {
      "metadata": {
        "trusted": true
      },
      "cell_type": "code",
      "source": "import numpy as np\nfrom tqdm import tqdm\n\nmodel_name = \"model.pkl\"\n\n# list of numbers from 0 to 1.0 with a 0.05 interval\nalphas = np.arange(0.0, 1.0, 0.05)\n\n# try a bunch of alpha values in a Linear Regression (Ridge) model\nfor alpha in tqdm(alphas):\n    # create a bunch of runs, each train a model with a different alpha value\n    with experiment.start_logging() as run:\n        # Use Ridge algorithm to build a regression model\n        regression_model = Ridge(alpha=alpha)\n        regression_model.fit(X=data[\"train\"][\"X\"], y=data[\"train\"][\"y\"])\n        preds = regression_model.predict(X=data[\"test\"][\"X\"])\n        mse = mean_squared_error(y_true=data[\"test\"][\"y\"], y_pred=preds)\n\n        # log alpha, mean_squared_error and feature names in run history\n        run.log(name=\"alpha\", value=alpha)\n        run.log(name=\"mse\", value=mse)\n\n        # Save the model to the outputs directory for capture\n        joblib.dump(value=regression_model, filename='outputs/model.pkl')\n        \n        # Capture this notebook with the run\n        #run.take_snapshot('./')",
      "execution_count": 10,
      "outputs": [
        {
          "output_type": "stream",
          "text": "100%|██████████| 20/20 [02:56<00:00,  9.95s/it]\n",
          "name": "stderr"
        }
      ]
    },
    {
      "metadata": {},
      "cell_type": "markdown",
      "source": "## Visualisation de l'expérimentation Azure ML service sur le portail Azure"
    },
    {
      "metadata": {
        "trusted": true
      },
      "cell_type": "code",
      "source": "experiment",
      "execution_count": 11,
      "outputs": [
        {
          "output_type": "execute_result",
          "execution_count": 11,
          "data": {
            "text/html": "<table style=\"width:100%\"><tr><th>Name</th><th>Workspace</th><th>Report Page</th><th>Docs Page</th></tr><tr><td>workshop-ExempleDiabete</td><td>azuremlservice</td><td><a href=\"https://mlworkspace.azure.ai/portal/subscriptions/70b8f39e-8863-49f7-b6ba-34a80799550c/resourceGroups/azuremlserviceresourcegroup/providers/Microsoft.MachineLearningServices/workspaces/azuremlservice/experiments/workshop-ExempleDiabete\" target=\"_blank\" rel=\"noopener\">Link to Azure Portal</a></td><td><a href=\"https://docs.microsoft.com/en-us/python/api/azureml-core/azureml.core.experiment.Experiment?view=azure-ml-py\" target=\"_blank\" rel=\"noopener\">Link to Documentation</a></td></tr></table>",
            "text/plain": "Experiment(Name: workshop-ExempleDiabete,\nWorkspace: azuremlservice)"
          },
          "metadata": {}
        }
      ]
    },
    {
      "metadata": {},
      "cell_type": "markdown",
      "source": "## Visualisation des résultats"
    },
    {
      "metadata": {
        "trusted": true
      },
      "cell_type": "code",
      "source": "runs = {}\nrun_metrics = {}\n\n# Create dictionaries containing the runs and the metrics for all runs containing the 'mse' metric\nfor r in tqdm(experiment.get_runs()):\n    metrics = r.get_metrics()\n    if 'mse' in metrics.keys():\n        runs[r.id] = r\n        run_metrics[r.id] = metrics\n\n# Find the run with the best (lowest) mean squared error and display the id and metrics\nbest_run_id = min(run_metrics, key = lambda k: run_metrics[k]['mse'])\nbest_run = runs[best_run_id]\nprint('Best run is:', best_run_id)\nprint('Metrics:', run_metrics[best_run_id])\n\n# Tag the best run for identification later\nbest_run.tag(\"Best Run\")",
      "execution_count": 12,
      "outputs": [
        {
          "output_type": "stream",
          "text": "62it [00:43,  1.58it/s]\n",
          "name": "stderr"
        },
        {
          "output_type": "stream",
          "text": "Best run is: ff7f4688-9aae-4ff8-8796-5e3f60a6e89c\nMetrics: {'alpha': 0.4, 'mse': 3295.741064355809}\n",
          "name": "stdout"
        }
      ]
    },
    {
      "metadata": {
        "trusted": true
      },
      "cell_type": "code",
      "source": "# View the files in the run\nfor f in best_run.get_file_names():\n    print(f)\n    \n# Register the model with the workspace\nmodel = best_run.register_model(model_name='best_model', model_path='outputs/model.pkl')",
      "execution_count": 13,
      "outputs": [
        {
          "output_type": "stream",
          "text": "outputs/model.pkl\noutputs/monmodele.pkl\n",
          "name": "stdout"
        }
      ]
    },
    {
      "metadata": {
        "trusted": true
      },
      "cell_type": "code",
      "source": "",
      "execution_count": null,
      "outputs": []
    }
  ],
  "metadata": {
    "kernelspec": {
      "name": "python36",
      "display_name": "Python 3.6",
      "language": "python"
    },
    "language_info": {
      "mimetype": "text/x-python",
      "nbconvert_exporter": "python",
      "name": "python",
      "pygments_lexer": "ipython3",
      "version": "3.6.6",
      "file_extension": ".py",
      "codemirror_mode": {
        "version": 3,
        "name": "ipython"
      }
    }
  },
  "nbformat": 4,
  "nbformat_minor": 2
}