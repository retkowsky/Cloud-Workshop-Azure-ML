{
  "cells": [
    {
      "metadata": {},
      "cell_type": "markdown",
      "source": "# Cloud Workshop Microsoft\n## 2. Modélisation avec Azure ML service\n\n> https://docs.microsoft.com/en-us/azure/machine-learning/"
    },
    {
      "metadata": {
        "trusted": true
      },
      "cell_type": "code",
      "source": "import azureml.core\nfrom azureml.core import Experiment, Workspace\n\n# Check core SDK version number\nprint(\"Version Azure ML service : \", azureml.core.VERSION)",
      "execution_count": 1,
      "outputs": [
        {
          "output_type": "stream",
          "text": "Version Azure ML service :  1.0.21\n",
          "name": "stdout"
        }
      ]
    },
    {
      "metadata": {
        "trusted": true
      },
      "cell_type": "code",
      "source": "# workspace\nws = Workspace.from_config()\nprint('Workspace name: ' + ws.name, \n      'Azure region: ' + ws.location, \n      'Resource group: ' + ws.resource_group, sep='\\n')",
      "execution_count": 2,
      "outputs": [
        {
          "output_type": "stream",
          "text": "Found the config file in: /home/nbuser/library/aml_config/config.json\nPerforming interactive authentication. Please follow the instructions on the terminal.\nTo sign in, use a web browser to open the page https://microsoft.com/devicelogin and enter the code FX488FQWX to authenticate.\nInteractive authentication successfully completed.\nWorkspace name: azuremlservice\nAzure region: westeurope\nResource group: azuremlserviceresourcegroup\n",
          "name": "stdout"
        }
      ]
    },
    {
      "metadata": {},
      "cell_type": "markdown",
      "source": "## Chargement des données"
    },
    {
      "metadata": {
        "trusted": true
      },
      "cell_type": "code",
      "source": "from sklearn.datasets import load_diabetes\nfrom sklearn.linear_model import Ridge\nfrom sklearn.metrics import mean_squared_error\nfrom sklearn.model_selection import train_test_split\nfrom sklearn.externals import joblib\n\nX, y = load_diabetes(return_X_y = True)\ncolumns = ['age', 'gender', 'bmi', 'bp', 's1', 's2', 's3', 's4', 's5', 's6']\nX_train, X_test, y_train, y_test = train_test_split(X, y, test_size=0.2, random_state=0)\ndata = {\n    \"train\":{\"X\": X_train, \"y\": y_train},        \n    \"test\":{\"X\": X_test, \"y\": y_test}\n}\n\nprint (\"Data contains\", len(data['train']['X']), \"training samples and\",len(data['test']['X']), \"test samples\")",
      "execution_count": 3,
      "outputs": [
        {
          "output_type": "stream",
          "text": "Data contains 353 training samples and 89 test samples\n",
          "name": "stdout"
        }
      ]
    },
    {
      "metadata": {},
      "cell_type": "markdown",
      "source": "## Modélisation"
    },
    {
      "metadata": {
        "trusted": true
      },
      "cell_type": "code",
      "source": "%%time\n# Nom de l'expérimentation Azure ML service\nexperiment = Experiment(workspace=ws, name=\"workshop-ExempleDiabete\")\n\n# Log\nrun = experiment.start_logging()\n# Log paramétre alpha\nrun.log('alpha', 0.03)\n\n# ML\nregression_model = Ridge(alpha=0.03)\nregression_model.fit(data['train']['X'], data['train']['y'])\npreds = regression_model.predict(data['test']['X'])\n\n# Log métriques\nprint('Mean Squared Error is', mean_squared_error(data['test']['y'], preds))\nrun.log('mse', mean_squared_error(data['test']['y'], preds))\n\n# Sauvegarde modèle\njoblib.dump(value=regression_model, filename='outputs/modele.pkl')\n\n# Run\nrun.complete()",
      "execution_count": 7,
      "outputs": [
        {
          "output_type": "stream",
          "text": "Mean Squared Error is 3424.900315896017\nCPU times: user 247 ms, sys: 227 ms, total: 474 ms\nWall time: 11.7 s\n",
          "name": "stdout"
        }
      ]
    },
    {
      "metadata": {},
      "cell_type": "markdown",
      "source": "## Visualisation de l'expérimentation sur le portail Azure"
    },
    {
      "metadata": {
        "trusted": true
      },
      "cell_type": "code",
      "source": "run",
      "execution_count": 8,
      "outputs": [
        {
          "output_type": "execute_result",
          "execution_count": 8,
          "data": {
            "text/html": "<table style=\"width:100%\"><tr><th>Experiment</th><th>Id</th><th>Type</th><th>Status</th><th>Details Page</th><th>Docs Page</th></tr><tr><td>workshop-ExempleDiabete</td><td>16d0c6d5-e16f-4730-bbc6-8feae7a63b80</td><td></td><td>Completed</td><td><a href=\"https://mlworkspace.azure.ai/portal/subscriptions/70b8f39e-8863-49f7-b6ba-34a80799550c/resourceGroups/azuremlserviceresourcegroup/providers/Microsoft.MachineLearningServices/workspaces/azuremlservice/experiments/workshop-ExempleDiabete/runs/16d0c6d5-e16f-4730-bbc6-8feae7a63b80\" target=\"_blank\" rel=\"noopener\">Link to Azure Portal</a></td><td><a href=\"https://docs.microsoft.com/en-us/python/api/azureml-core/azureml.core.run.Run?view=azure-ml-py\" target=\"_blank\" rel=\"noopener\">Link to Documentation</a></td></tr></table>",
            "text/plain": "Run(Experiment: workshop-ExempleDiabete,\nId: 16d0c6d5-e16f-4730-bbc6-8feae7a63b80,\nType: None,\nStatus: Completed)"
          },
          "metadata": {}
        }
      ]
    },
    {
      "metadata": {},
      "cell_type": "markdown",
      "source": "## Recherche du paramétre optimal"
    },
    {
      "metadata": {
        "trusted": true
      },
      "cell_type": "code",
      "source": "import numpy as np\nfrom tqdm import tqdm\n\nmodel_name = \"modele.pkl\"\n\n# list of numbers from 0 to 1.0 with a 0.05 interval\nalphas = np.arange(0.0, 1.0, 0.05)\n\n# try a bunch of alpha values in a Linear Regression (Ridge) model\nfor alpha in tqdm(alphas):\n    # create a bunch of runs, each train a model with a different alpha value\n    with experiment.start_logging() as run:\n        # Use Ridge algorithm to build a regression model\n        regression_model = Ridge(alpha=alpha)\n        regression_model.fit(X=data[\"train\"][\"X\"], y=data[\"train\"][\"y\"])\n        preds = regression_model.predict(X=data[\"test\"][\"X\"])\n        mse = mean_squared_error(y_true=data[\"test\"][\"y\"], y_pred=preds)\n\n        # log alpha, mean_squared_error and feature names in run history\n        run.log(name=\"alpha\", value=alpha)\n        run.log(name=\"mse\", value=mse)\n\n        # Save the model to the outputs directory for capture\n        joblib.dump(value=regression_model, filename='outputs/modele.pkl')\n        \n        # Capture this notebook with the run\n        #run.take_snapshot('./')",
      "execution_count": 9,
      "outputs": [
        {
          "output_type": "stream",
          "text": "\n  0%|          | 0/20 [00:00<?, ?it/s]\u001b[A\n  5%|▌         | 1/20 [00:14<04:31, 14.29s/it]\u001b[A\n 10%|█         | 2/20 [00:27<04:13, 14.07s/it]\u001b[A\n 15%|█▌        | 3/20 [00:51<04:50, 17.06s/it]\u001b[A\n 20%|██        | 4/20 [01:04<04:11, 15.71s/it]\u001b[A\n 25%|██▌       | 5/20 [01:16<03:40, 14.68s/it]\u001b[A\n 30%|███       | 6/20 [01:27<03:09, 13.55s/it]\u001b[A\n 35%|███▌      | 7/20 [01:45<03:13, 14.92s/it]\u001b[A\n 40%|████      | 8/20 [01:54<02:37, 13.13s/it]\u001b[A\n 45%|████▌     | 9/20 [02:05<02:15, 12.34s/it]\u001b[A\n 50%|█████     | 10/20 [02:17<02:04, 12.44s/it]\u001b[A\n 55%|█████▌    | 11/20 [02:29<01:50, 12.30s/it]\u001b[A\n 60%|██████    | 12/20 [02:42<01:39, 12.44s/it]\u001b[A\n 65%|██████▌   | 13/20 [02:55<01:27, 12.55s/it]\u001b[A\n 70%|███████   | 14/20 [03:07<01:15, 12.53s/it]\u001b[A\n 75%|███████▌  | 15/20 [03:20<01:02, 12.44s/it]\u001b[A\n 80%|████████  | 16/20 [03:31<00:48, 12.25s/it]\u001b[A\n 85%|████████▌ | 17/20 [03:44<00:36, 12.29s/it]\u001b[A\n 90%|█████████ | 18/20 [03:57<00:24, 12.43s/it]\u001b[A\n 95%|█████████▌| 19/20 [04:08<00:12, 12.21s/it]\u001b[A\n100%|██████████| 20/20 [04:21<00:00, 12.47s/it]\u001b[A\n\u001b[A",
          "name": "stderr"
        }
      ]
    },
    {
      "metadata": {},
      "cell_type": "markdown",
      "source": "## Visualisation de l'expérimentation Azure ML service sur le portail Azure"
    },
    {
      "metadata": {
        "trusted": true
      },
      "cell_type": "code",
      "source": "experiment",
      "execution_count": 10,
      "outputs": [
        {
          "output_type": "execute_result",
          "execution_count": 10,
          "data": {
            "text/html": "<table style=\"width:100%\"><tr><th>Name</th><th>Workspace</th><th>Report Page</th><th>Docs Page</th></tr><tr><td>workshop-ExempleDiabete</td><td>azuremlservice</td><td><a href=\"https://mlworkspace.azure.ai/portal/subscriptions/70b8f39e-8863-49f7-b6ba-34a80799550c/resourceGroups/azuremlserviceresourcegroup/providers/Microsoft.MachineLearningServices/workspaces/azuremlservice/experiments/workshop-ExempleDiabete\" target=\"_blank\" rel=\"noopener\">Link to Azure Portal</a></td><td><a href=\"https://docs.microsoft.com/en-us/python/api/azureml-core/azureml.core.experiment.Experiment?view=azure-ml-py\" target=\"_blank\" rel=\"noopener\">Link to Documentation</a></td></tr></table>",
            "text/plain": "Experiment(Name: workshop-ExempleDiabete,\nWorkspace: azuremlservice)"
          },
          "metadata": {}
        }
      ]
    },
    {
      "metadata": {},
      "cell_type": "markdown",
      "source": "## Visualisation des résultats"
    },
    {
      "metadata": {
        "trusted": true
      },
      "cell_type": "code",
      "source": "runs = {}\nrun_metrics = {}\n\n# Create dictionaries containing the runs and the metrics for all runs containing the 'mse' metric\nfor r in tqdm(experiment.get_runs()):\n    metrics = r.get_metrics()\n    if 'mse' in metrics.keys():\n        runs[r.id] = r\n        run_metrics[r.id] = metrics\n\n# Find the run with the best (lowest) mean squared error and display the id and metrics\nbest_run_id = min(run_metrics, key = lambda k: run_metrics[k]['mse'])\nbest_run = runs[best_run_id]\nprint('Best run is:', best_run_id)\nprint('Metrics:', run_metrics[best_run_id])\n\n# Tag the best run for identification later\nbest_run.tag(\"Best Run\")",
      "execution_count": 11,
      "outputs": [
        {
          "output_type": "stream",
          "text": "\n0it [00:00, ?it/s]\u001b[A\n1it [00:01,  1.87s/it]\u001b[A\n2it [00:02,  1.51s/it]\u001b[A\n3it [00:03,  1.28s/it]\u001b[A\n4it [00:03,  1.11s/it]\u001b[A\n5it [00:04,  1.02it/s]\u001b[A\n6it [00:05,  1.10it/s]\u001b[A\n7it [00:06,  1.16it/s]\u001b[A\n8it [00:06,  1.22it/s]\u001b[A\n9it [00:07,  1.27it/s]\u001b[A\n10it [00:08,  1.34it/s]\u001b[A\n11it [00:08,  1.35it/s]\u001b[A\n12it [00:09,  1.42it/s]\u001b[A\n13it [00:10,  1.38it/s]\u001b[A\n14it [00:10,  1.44it/s]\u001b[A\n15it [00:11,  1.46it/s]\u001b[A\n16it [00:12,  1.51it/s]\u001b[A\n17it [00:12,  1.50it/s]\u001b[A\n18it [00:13,  1.54it/s]\u001b[A\n19it [00:14,  1.50it/s]\u001b[A\n20it [00:14,  1.47it/s]\u001b[A\n21it [00:15,  1.45it/s]\u001b[A\n22it [00:16,  1.47it/s]\u001b[A\n23it [00:17,  1.45it/s]\u001b[A\n24it [00:17,  1.44it/s]\u001b[A\n25it [00:18,  1.42it/s]\u001b[A\n26it [00:19,  1.43it/s]\u001b[A\n27it [00:19,  1.44it/s]\u001b[A\n28it [00:20,  1.37it/s]\u001b[A\n29it [00:21,  1.32it/s]\u001b[A\n30it [00:22,  1.29it/s]\u001b[A\n31it [00:23,  1.28it/s]\u001b[A\n32it [00:23,  1.31it/s]\u001b[A\n33it [00:24,  1.29it/s]\u001b[A\n34it [00:25,  1.30it/s]\u001b[A\n35it [00:26,  1.32it/s]\u001b[A\n36it [00:26,  1.31it/s]\u001b[A\n37it [00:27,  1.29it/s]\u001b[A\n38it [00:28,  1.27it/s]\u001b[A\n39it [00:29,  1.27it/s]\u001b[A\n40it [00:30,  1.27it/s]\u001b[A\n41it [00:30,  1.29it/s]\u001b[A\n42it [00:31,  1.27it/s]\u001b[A\n43it [00:32,  1.29it/s]\u001b[A\n44it [00:33,  1.22it/s]\u001b[A\n45it [00:34,  1.25it/s]\u001b[A\n46it [00:34,  1.24it/s]\u001b[A\n47it [00:35,  1.26it/s]\u001b[A\n48it [00:36,  1.27it/s]\u001b[A\n49it [00:37,  1.33it/s]\u001b[A\n50it [00:37,  1.42it/s]\u001b[A\n51it [00:38,  1.47it/s]\u001b[A\n52it [00:38,  1.48it/s]\u001b[A\n53it [00:39,  1.55it/s]\u001b[A\n54it [00:40,  1.58it/s]\u001b[A\n55it [00:40,  1.62it/s]\u001b[A\n56it [00:41,  1.62it/s]\u001b[A\n57it [00:41,  1.62it/s]\u001b[A\n58it [00:42,  1.64it/s]\u001b[A\n59it [00:43,  1.64it/s]\u001b[A\n60it [00:43,  1.64it/s]\u001b[A\n61it [00:44,  1.64it/s]\u001b[A\n62it [00:44,  1.65it/s]\u001b[A\n63it [00:45,  1.64it/s]\u001b[A\n64it [00:46,  1.65it/s]\u001b[A\n65it [00:46,  1.65it/s]\u001b[A\n66it [00:47,  1.65it/s]\u001b[A\n67it [00:48,  1.64it/s]\u001b[A\n68it [00:48,  1.63it/s]\u001b[A\n69it [00:49,  1.64it/s]\u001b[A\n70it [00:49,  1.63it/s]\u001b[A\n71it [00:50,  1.39it/s]\u001b[A\n72it [00:51,  1.41it/s]\u001b[A\n73it [00:52,  1.47it/s]\u001b[A\n74it [00:52,  1.53it/s]\u001b[A\n75it [00:57,  1.81s/it]\u001b[A\n76it [00:57,  1.46s/it]\u001b[A\n77it [00:58,  1.23s/it]\u001b[A\n78it [00:59,  1.04s/it]\u001b[A\n79it [00:59,  1.03it/s]\u001b[A\n80it [01:00,  1.14it/s]\u001b[A\n81it [01:01,  1.20it/s]\u001b[A\n82it [01:02,  1.30it/s]\u001b[A\n83it [01:02,  1.37it/s]\u001b[A\n84it [01:03,  1.43it/s]\u001b[A\n85it [01:03,  1.46it/s]\u001b[A\n86it [01:04,  1.49it/s]\u001b[A\n87it [01:05,  1.36it/s]\u001b[A\n88it [01:06,  1.37it/s]\u001b[A\n89it [01:06,  1.40it/s]\u001b[A\n90it [01:07,  1.47it/s]\u001b[A\n91it [01:08,  1.48it/s]\u001b[A\n92it [01:08,  1.54it/s]\u001b[A\n93it [01:09,  1.58it/s]\u001b[A\n94it [01:09,  1.60it/s]\u001b[A\n95it [01:10,  1.46it/s]\u001b[A\n96it [01:11,  1.49it/s]\u001b[A\n97it [01:11,  1.53it/s]\u001b[A\n98it [01:12,  1.55it/s]\u001b[A\n99it [01:13,  1.47it/s]\u001b[A\n100it [01:13,  1.52it/s]\u001b[A\n101it [01:14,  1.55it/s]\u001b[A\n102it [01:15,  1.50it/s]\u001b[A\n103it [01:15,  1.56it/s]\u001b[A\n104it [01:16,  1.57it/s]\u001b[A\n105it [01:17,  1.55it/s]\u001b[A\n106it [01:17,  1.56it/s]\u001b[A\n107it [01:18,  1.54it/s]\u001b[A\n108it [01:19,  1.57it/s]\u001b[A\n109it [01:19,  1.54it/s]\u001b[A\n110it [01:20,  1.50it/s]\u001b[A\n111it [01:21,  1.52it/s]\u001b[A\n112it [01:21,  1.57it/s]\u001b[A\n113it [01:22,  1.58it/s]\u001b[A\n114it [01:23,  1.53it/s]\u001b[A\n115it [01:23,  1.56it/s]\u001b[A\n116it [01:24,  1.55it/s]\u001b[A\n117it [01:24,  1.54it/s]\u001b[A\n118it [01:25,  1.51it/s]\u001b[A\n119it [01:26,  1.54it/s]\u001b[A\n120it [01:26,  1.58it/s]\u001b[A\n121it [01:27,  1.59it/s]\u001b[A\n122it [01:28,  1.59it/s]\u001b[A\n\u001b[A",
          "name": "stderr"
        },
        {
          "output_type": "stream",
          "text": "Best run is: adb3cb09-b627-40ad-ae22-7baaa40845b7\nMetrics: {'alpha': 0.4, 'mse': 3295.741064355809}\n",
          "name": "stdout"
        }
      ]
    },
    {
      "metadata": {
        "trusted": true
      },
      "cell_type": "code",
      "source": " # Register the model with the workspace\nmodel = best_run.register_model(model_name='best_model', model_path='outputs/modele.pkl')",
      "execution_count": 14,
      "outputs": []
    },
    {
      "metadata": {
        "trusted": true
      },
      "cell_type": "code",
      "source": "# View the files in the run\nfor f in best_run.get_file_names():\n    print(f)",
      "execution_count": 15,
      "outputs": [
        {
          "output_type": "stream",
          "text": "outputs/model.pkl\noutputs/modele.pkl\noutputs/monmodele.pkl\n",
          "name": "stdout"
        }
      ]
    },
    {
      "metadata": {
        "trusted": true
      },
      "cell_type": "markdown",
      "source": "> Fin"
    },
    {
      "metadata": {
        "trusted": true
      },
      "cell_type": "code",
      "source": "",
      "execution_count": null,
      "outputs": []
    }
  ],
  "metadata": {
    "kernelspec": {
      "name": "python36",
      "display_name": "Python 3.6",
      "language": "python"
    },
    "language_info": {
      "mimetype": "text/x-python",
      "nbconvert_exporter": "python",
      "name": "python",
      "pygments_lexer": "ipython3",
      "version": "3.6.6",
      "file_extension": ".py",
      "codemirror_mode": {
        "version": 3,
        "name": "ipython"
      }
    }
  },
  "nbformat": 4,
  "nbformat_minor": 2
}