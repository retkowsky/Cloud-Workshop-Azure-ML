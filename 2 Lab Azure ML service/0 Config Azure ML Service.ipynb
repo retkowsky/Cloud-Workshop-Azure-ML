{
  "cells": [
    {
      "metadata": {},
      "cell_type": "markdown",
      "source": "# I. Prérequis"
    },
    {
      "metadata": {},
      "cell_type": "markdown",
      "source": "## 1. Souscription Azure\n\nIn order to create an AML Workspace, first you need access to an Azure Subscription.  You can [create your own](https://azure.microsoft.com/en-us/free/) or get your existing subscription information from the [Azure portal](https://portal.azure.com).\n\n## 2. Installation Azure ML service SDK\n\nIf you are running in your own environment, follow [SDK installation instructions](https://docs.microsoft.com/azure/machine-learning/service/how-to-configure-environment).  If you are running in Azure Notebooks or another Microsoft managed environment, the SDK is already installed.\n\nAlso install following libraries to your environment. Many of the example notebooks depend on them\n\n```\n(myenv) $ conda install -y matplotlib tqdm scikit-learn\n```\n\nOnce installation is complete, check the Azure ML SDK version:"
    },
    {
      "metadata": {
        "trusted": true
      },
      "cell_type": "code",
      "source": "#!pip install azureml-sdk[automl,notebooks,explain]",
      "execution_count": 11,
      "outputs": []
    },
    {
      "metadata": {
        "tags": [
          "install"
        ],
        "trusted": true
      },
      "cell_type": "code",
      "source": "import azureml.core\nprint(\"Version Azure ML service :\", azureml.core.VERSION)",
      "execution_count": 12,
      "outputs": [
        {
          "output_type": "stream",
          "text": "Version Azure ML service : 1.0.17\n",
          "name": "stdout"
        }
      ]
    },
    {
      "metadata": {},
      "cell_type": "markdown",
      "source": "## 3. Azure ML service utilise ACI. Vérifier que la souscription permet d'utiliser ACI\nAzure Machine Learning makes use of Azure Container Instance (ACI). You need to ensure your subscription has been registered to use ACI in order be able to deploy a dev/test web service.  If you have run through the quickstart experience you have already performed this step.  Otherwise you will need to use the [Azure CLI](https://docs.microsoft.com/en-us/cli/azure/install-azure-cli?view=azure-cli-latest) and execute the following commands.\n\n```shell\n# check to see if ACI is already registered\n(myenv) $ az provider show -n Microsoft.ContainerInstance -o table\n\n# if ACI is not registered, run this command.\n# note you need to be the subscription owner in order to execute this command successfully.\n(myenv) $ az provider register -n Microsoft.ContainerInstance\n```"
    },
    {
      "metadata": {},
      "cell_type": "markdown",
      "source": "# II. Azure Machine Learning workspace\n\n## 2.1 Option 1 : vous avez déjà un workspace Azure ML service\nIf you ran the Azure Machine Learning [quickstart](https://docs.microsoft.com/en-us/azure/machine-learning/service/quickstart-get-started) in Azure Notebooks, you already have a configured workspace!  You can go to your Azure Machine Learning Getting Started library, view *config.json* file, and copy-paste the values for subscription ID, resource group and workspace name below.\n\nIf you have a workspace created another way, [these instructions](https://docs.microsoft.com/en-us/azure/machine-learning/service/how-to-configure-environment#create-workspace-configuration-file) describe how to get your subscription and workspace information.\n\nIf this cell succeeds, you're done configuring this library!  Otherwise continue to follow the instructions in the rest of the notebook."
    },
    {
      "metadata": {
        "trusted": true
      },
      "cell_type": "code",
      "source": "import os\n\nsubscription_id = os.environ.get(\"SUBSCRIPTION_ID\", \"A_RENSEIGNER)\nresource_group = os.environ.get(\"RESOURCE_GROUP\", \"A_RENSEIGNER\")\nworkspace_name = os.environ.get(\"WORKSPACE_NAME\", \"A_RENSEIGNER\")",
      "execution_count": 13,
      "outputs": []
    },
    {
      "metadata": {
        "trusted": true
      },
      "cell_type": "code",
      "source": "from azureml.core import Workspace\n\ntry:\n   ws = Workspace(subscription_id = subscription_id, resource_group = resource_group, workspace_name = workspace_name)\n   ws.write_config()\n   print(\"Le workspace Azure ML service a été trouvé : OK\")\nexcept:\n   print(\"Le workspace Azure ML service n'a pas été trouvé\")",
      "execution_count": 14,
      "outputs": [
        {
          "output_type": "stream",
          "text": "Wrote the config file config.json to: /home/nbuser/library/aml_config/config.json\nLe workspace Azure ML service a été trouvé : OK\n",
          "name": "stdout"
        }
      ]
    },
    {
      "metadata": {},
      "cell_type": "markdown",
      "source": "## 2.2 Option 2 : vous n'avez pas de workspace\n\n\n### 2.2.1 Requirements\n\nInside your Azure subscription, you will need access to a _resource group_, which organizes Azure resources and provides a default region for the resources in a group.  You can see what resource groups to which you have access, or create a new one in the [Azure portal](https://portal.azure.com).  If you don't have a resource group, the create workspace command will create one for you using the name you provide.\n\nTo create or access an Azure ML Workspace, you will need to import the AML library and the following information:\n* A name for your workspace\n* Your subscription id\n* The resource group name\n\n**Note**: As with other Azure services, there are limits on certain resources (for eg. BatchAI cluster size) associated with the Azure Machine Learning service. Please read [this article](https://docs.microsoft.com/en-us/azure/machine-learning/service/how-to-manage-quotas) on the default limits and how to request more quota."
    },
    {
      "metadata": {},
      "cell_type": "markdown",
      "source": "### 2.2.2 Supported Azure Regions\nSpecify a region where your workspace will be located from the list of [Azure Machine Learning regions](https://linktoregions)"
    },
    {
      "metadata": {
        "trusted": false
      },
      "cell_type": "code",
      "source": "import os\n\nsubscription_id = os.environ.get(\"SUBSCRIPTION_ID\", \"A RENSEIGNER\")\nresource_group = os.environ.get(\"RESOURCE_GROUP\", \"A RENSEIGNER\")\nworkspace_name = os.environ.get(\"WORKSPACE_NAME\", \"A RENSEIGNER\")\nworkspace_region = os.environ.get(\"WORKSPACE_REGION\", \"A RENSEIGNER\")",
      "execution_count": 5,
      "outputs": []
    },
    {
      "metadata": {},
      "cell_type": "markdown",
      "source": "## 2.3 Création du workspace\nThis cell will create an AML workspace for you in a subscription provided you have the correct permissions.\n\nThis will fail when:\n1. You do not have permission to create a workspace in the resource group\n2. You do not have permission to create a resource group if it's non-existing.\n2. You are not a subscription owner or contributor and no Azure ML workspaces have ever been created in this subscription\n\nIf workspace creation fails, please work with your IT admin to provide you with the appropriate permissions or to provision the required resources."
    },
    {
      "metadata": {
        "tags": [
          "create workspace"
        ],
        "trusted": false
      },
      "cell_type": "code",
      "source": "# import the Workspace class and check the azureml SDK version\nfrom azureml.core import Workspace\n\nws = Workspace.create(name = workspace_name,\n                      subscription_id = subscription_id,\n                      resource_group = resource_group, \n                      location = workspace_region,\n                      create_resource_group = True,\n                      exist_ok = True)\nws.get_details()\nws.write_config()",
      "execution_count": 6,
      "outputs": [
        {
          "name": "stdout",
          "output_type": "stream",
          "text": "Wrote the config file config.json to: /home/nbuser/library/aml_config/config.json\n"
        }
      ]
    },
    {
      "metadata": {},
      "cell_type": "markdown",
      "source": "# III. BatchAI Clusters\n\nMany of the subsequent examples use BatchAI clusters to train models at scale. To create a **CPU** cluster now, run the cell below. The autoscale settings mean that the cluster will scale down to 0 nodes when inactive and up to 4 nodes when busy."
    },
    {
      "metadata": {},
      "cell_type": "markdown",
      "source": "## 3.1 Cluster CPU"
    },
    {
      "metadata": {
        "trusted": false
      },
      "cell_type": "code",
      "source": "from azureml.core.compute import ComputeTarget, BatchAiCompute\nfrom azureml.core.compute_target import ComputeTargetException\n\n# Choose a name for your CPU cluster\ncpu_cluster_name = \"cpucluster\"\n\n# Verify that cluster does not exist already\ntry:\n    cpu_cluster = ComputeTarget(workspace=ws, name=cpu_cluster_name)\n    print('Found existing cluster, use it.')\nexcept ComputeTargetException:\n    compute_config = BatchAiCompute.provisioning_configuration(vm_size='STANDARD_D2_V2', \n                                                                autoscale_enabled=True,\n                                                                cluster_min_nodes=0, \n                                                                cluster_max_nodes=4)\n    cpu_cluster = ComputeTarget.create(ws, cpu_cluster_name, compute_config)\n\ncpu_cluster.wait_for_completion(show_output=True)",
      "execution_count": 7,
      "outputs": [
        {
          "name": "stdout",
          "output_type": "stream",
          "text": "Found existing cluster, use it.\nsucceeded\nBatchAI wait for completion finished\nMinimum number of nodes requested have been provisioned\n"
        }
      ]
    },
    {
      "metadata": {},
      "cell_type": "markdown",
      "source": "## 3.2 Cluster GPU"
    },
    {
      "metadata": {},
      "cell_type": "markdown",
      "source": "To create a **GPU** cluster, run the cell below. Note that your subscription must have sufficient quota for GPU VMs or the command will fail. To increase quota, see [these instructions](https://docs.microsoft.com/en-us/azure/azure-supportability/resource-manager-core-quotas-request). "
    },
    {
      "metadata": {
        "trusted": false
      },
      "cell_type": "code",
      "source": "from azureml.core.compute import ComputeTarget, BatchAiCompute\nfrom azureml.core.compute_target import ComputeTargetException\n\n# Choose a name for your GPU cluster\ngpu_cluster_name = \"gpucluster\"\n\n# Check if cluster exists already\ntry:\n    gpu_cluster = ComputeTarget(workspace=ws, name=gpu_cluster_name)\n    print('Found existing cluster, use it.')\nexcept ComputeTargetException:\n    compute_config = BatchAiCompute.provisioning_configuration(vm_size='STANDARD_NC6', \n                                                                autoscale_enabled=True,\n                                                                cluster_min_nodes=0, \n                                                                cluster_max_nodes=4)\n    gpu_cluster = ComputeTarget.create(ws, gpu_cluster_name, compute_config)\n\ngpu_cluster.wait_for_completion(show_output=True)",
      "execution_count": 8,
      "outputs": [
        {
          "name": "stdout",
          "output_type": "stream",
          "text": "Found existing cluster, use it.\nsucceeded\nBatchAI wait for completion finished\nMinimum number of nodes requested have been provisioned\n"
        }
      ]
    },
    {
      "metadata": {
        "trusted": false
      },
      "cell_type": "code",
      "source": "",
      "execution_count": null,
      "outputs": []
    }
  ],
  "metadata": {
    "authors": [
      {
        "name": "roastala"
      }
    ],
    "kernelspec": {
      "name": "python36",
      "display_name": "Python 3.6",
      "language": "python"
    },
    "language_info": {
      "mimetype": "text/x-python",
      "nbconvert_exporter": "python",
      "name": "python",
      "pygments_lexer": "ipython3",
      "version": "3.6.6",
      "file_extension": ".py",
      "codemirror_mode": {
        "version": 3,
        "name": "ipython"
      }
    }
  },
  "nbformat": 4,
  "nbformat_minor": 2
}